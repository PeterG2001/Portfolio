

{
  "nbformat": 4,
  "nbformat_minor": 0,
  "metadata": {
    "colab": {
      "provenance": [],
      "authorship_tag": "ABX9TyOK4xS+DSh9lO7MJzGB6rmB",
      "include_colab_link": true
    },
    "kernelspec": {
      "name": "python3",
      "display_name": "Python 3"
    },
    "language_info": {
      "name": "python"
    }
  },
  "cells": [
    {
      "cell_type": "markdown",
      "metadata": {
        "id": "view-in-github",
        "colab_type": "text"
      },
      "source": [
        "<a href=\"https://colab.research.google.com/github/PeterG2001/Projects-/blob/main/Applied_AI_MB_Code.ipynb\" target=\"_parent\"><img src=\"https://colab.research.google.com/assets/colab-badge.svg\" alt=\"Open In Colab\"/></a>"
      ]
    },
    {
      "cell_type": "code",
      "source": [
        "import numpy as np\n",
        "import matplotlib.pyplot as plt\n",
        "\n",
        "\n",
        "class multi_arm_bandit(object):\n",
        "    def __init__(self, Action_Value, Epsilon, Total_Steps):\n",
        "        self.Arm = np.size(Action_Value)\n",
        "        self.Epsilon = Epsilon\n",
        "        self.Current_Step = 0\n",
        "        self.Particular_arm_selected = np.zeros(self.Arm)\n",
        "        self.Total_Steps = Total_Steps\n",
        "        self.Action_Value = Action_Value\n",
        "        self.Mean_reward_of_arm = np.zeros(self.Arm)\n",
        "        self.Curent_reward = 0\n",
        "        self.Mean_reward = np.zeros(Total_Steps+1)\n",
        "        self.Particular_arm_selected_count = np.zeros(self.Arm)\n",
        "\n",
        "\n",
        "    def epsilon_greedy(self):\n",
        "        Probability = np.random.rand()\n",
        "        if (self.Current_Step == 0) or (Probability <= self.Epsilon):\n",
        "            Arm_selected = np.random.choice(self.Arm)\n",
        "        if (Probability > self.Epsilon):\n",
        "            Arm_selected = np.argmax(self.Mean_reward_of_arm)\n",
        "        self.Current_Step = self.Current_Step + 1\n",
        "        self.Particular_arm_selected[Arm_selected] = self.Particular_arm_selected[Arm_selected]+1\n",
        "        self.Particular_arm_selected_count[Arm_selected] = self.Particular_arm_selected_count[Arm_selected]+1\n",
        "        self.Curent_reward = np.random.normal(self.Action_Value[Arm_selected], 1)\n",
        "        self.Mean_reward[self.Current_Step] = self.Mean_reward[self.Current_Step-1]+(1/(self.Current_Step))*(self.Curent_reward-self.Mean_reward[self.Current_Step-1])\n",
        "        self.Mean_reward_of_arm[Arm_selected] = self.Mean_reward_of_arm[Arm_selected]+(1/(self.Particular_arm_selected[Arm_selected]))*(self.Curent_reward-self.Mean_reward_of_arm[Arm_selected])\n",
        "\n",
        "    def play_game(self):\n",
        "        for i in range(self.Total_Steps):\n",
        "            self.epsilon_greedy()\n",
        "\n",
        "    def ClearAll(self):\n",
        "        self.Current_Step = 0\n",
        "        self.Particular_arm_selected = np.zeros(self.Arm)\n",
        "        self.Mean_reward_of_arm = np.zeros(self.Arm)\n",
        "        self.Curent_reward = 0\n",
        "        self.Mean_reward = np.zeros(Total_Steps+1)\n",
        "        self.Optimal_Action = np.zeros(Total_Steps+1)\n",
        "\n",
        "\n",
        "    def ClearAll(self):\n",
        "        self.Current_Step = 0\n",
        "        self.Particular_arm_selected = np.zeros(self.Arm)\n",
        "        self.Mean_reward_of_arm = np.zeros(self.Arm)\n",
        "        self.Curent_reward = 0\n",
        "        self.Mean_reward = np.zeros(Total_Steps+1)\n",
        "        self.Optimal_Action = np.zeros(Total_Steps+1)\n",
        "\n",
        "\n",
        "        Action_Value = ([5,8,12,1,3,11,9,10])\n",
        "        Epsilon1 = 0\n",
        "        Epsilon2 = 0.01\n",
        "        Epsilon3 = 0.1\n",
        "        Epsilon4 = 0.4\n",
        "        Total_Steps = 10000\n",
        "\n",
        "        Bandit1 = multi_arm_bandit(Action_Value, Epsilon1, Total_Steps)\n",
        "        Bandit1.play_game()\n",
        "        Epsilon1Meanreward = Bandit1.Mean_reward\n",
        "        print(Bandit1.Particular_arm_selected)\n",
        "\n",
        "        Bandit2 = multi_arm_bandit(Action_Value, Epsilon2, Total_Steps)\n",
        "        Bandit2.play_game()\n",
        "        Epsilon2Meanreward = Bandit2.Mean_reward\n",
        "        print(Bandit2.Particular_arm_selected)\n",
        "\n",
        "        Bandit3 = multi_arm_bandit(Action_Value, Epsilon3, Total_Steps)\n",
        "        Bandit3.play_game()\n",
        "        Epsilon3Meanreward = Bandit3.Mean_reward\n",
        "        print(Bandit3.Particular_arm_selected)\n",
        "\n",
        "        Bandit4 = multi_arm_bandit(Action_Value, Epsilon4, Total_Steps)\n",
        "        Bandit4.play_game()\n",
        "        Epsilon4Meanreward = Bandit4.Mean_reward\n",
        "        print(Bandit4.Particular_arm_selected)\n",
        "\n",
        "        plt.figure(1)\n",
        "        plt.plot(np.arange(Total_Steps+1),Epsilon1Meanreward,linewidth=2, color='r', label='epsilon =0')\n",
        "        plt.plot(np.arange(Total_Steps+1),Epsilon2Meanreward,linewidth=2, color='k', label='epsilon =0.01')\n",
        "        plt.plot(np.arange(Total_Steps+1),Epsilon3Meanreward,linewidth=2, color='m', label='epsilon =0.1')\n",
        "        plt.plot(np.arange(Total_Steps+1),Epsilon4Meanreward,linewidth=2, color='b', label='epsilon =0.4')\n",
        "        plt.xscale(\"log\")\n",
        "        plt.xlabel('Steps')\n",
        "        plt.ylabel('Average reward')\n",
        "        plt.legend()\n",
        "        plt.show()\n"
      ],
      "metadata": {
        "id": "WKP9kvWiGvT0"
      },
      "execution_count": null,
      "outputs": []
    },
    {
      "cell_type": "code",
      "source": [
        "# Define the parameters\n",
        "Action_Value = ([5,8,12,1,3,11,9,10])\n",
        "Epsilon1 = 0\n",
        "Epsilon2 = 0.01\n",
        "Epsilon3 = 0.1\n",
        "Epsilon4 = 0.4\n",
        "Total_Steps = 1000\n",
        "\n",
        "\n",
        "# Create the bandits and play the game\n",
        "Bandit1 = multi_arm_bandit(Action_Value, Epsilon1, Total_Steps)\n",
        "Bandit1.play_game()\n",
        "Epsilon1Meanreward = Bandit1.Mean_reward\n",
        "print(Bandit1.Particular_arm_selected)\n",
        "\n",
        "Bandit2 = multi_arm_bandit(Action_Value, Epsilon2, Total_Steps)\n",
        "Bandit2.play_game()\n",
        "Epsilon2Meanreward = Bandit2.Mean_reward\n",
        "print(Bandit2.Particular_arm_selected)\n",
        "\n",
        "Bandit3 = multi_arm_bandit(Action_Value, Epsilon3, Total_Steps)\n",
        "Bandit3.play_game()\n",
        "Epsilon3Meanreward = Bandit3.Mean_reward\n",
        "print(Bandit3.Particular_arm_selected)\n",
        "\n",
        "Bandit4 = multi_arm_bandit(Action_Value, Epsilon4, Total_Steps)\n",
        "Bandit4.play_game()\n",
        "Epsilon4Meanreward = Bandit4.Mean_reward\n",
        "print(Bandit4.Particular_arm_selected)\n",
        "\n",
        "\n",
        "# Plot the results\n",
        "plt.figure(1)\n",
        "plt.plot(np.arange(Total_Steps+1),Epsilon1Meanreward,linewidth=2, color='r', label='epsilon =0')\n",
        "plt.plot(np.arange(Total_Steps+1),Epsilon2Meanreward,linewidth=2, color='k', label='epsilon =0.01')\n",
        "plt.plot(np.arange(Total_Steps+1),Epsilon3Meanreward,linewidth=2, color='m', label='epsilon =0.1')\n",
        "plt.plot(np.arange(Total_Steps+1),Epsilon4Meanreward,linewidth=2, color='b', label='epsilon =0.4')\n",
        "plt.xscale(\"log\")\n",
        "plt.xlabel('Steps')\n",
        "plt.ylabel('Average reward')\n",
        "plt.legend()\n",
        "plt.show()"
      ],
      "metadata": {
        "colab": {
          "base_uri": "https://localhost:8080/",
          "height": 353
        },
        "id": "xOZUPHnLL5l4",
        "outputId": "af09231c-5378-4429-f012-c8dbea60db08"
      },
      "execution_count": null,
      "outputs": [
        {
          "output_type": "stream",
          "name": "stdout",
          "text": [
            "[1000.    0.    0.    0.    0.    0.    0.    0.]\n",
            "[ 43.   1. 953.   1.   1.   0.   1.   0.]\n",
            "[ 13.  14. 913.  14.   7.  10.   6.  23.]\n",
            "[ 67.  49. 582.  59.  49.  85.  50.  59.]\n"
          ]
        },
        {
          "output_type": "display_data",
          "data": {
            "text/plain": [
              "<Figure size 432x288 with 1 Axes>"
            ],
            "image/png": "[encoded data removed]"
          },
          "metadata": {
            "needs_background": "light"
          }
        }
      ]
    }
  ]
}
