{
  "nbformat": 4,
  "nbformat_minor": 0,
  "metadata": {
    "colab": {
      "provenance": [],
      "authorship_tag": "ABX9TyMYcKb3IwcMe/eyt2LmJ7Zn",
      "include_colab_link": true
    },
    "kernelspec": {
      "name": "python3",
      "display_name": "Python 3"
    },
    "language_info": {
      "name": "python"
    }
  },
  "cells": [
    {
      "cell_type": "markdown",
      "metadata": {
        "id": "view-in-github",
        "colab_type": "text"
      },
      "source": [
        "<a href=\"https://colab.research.google.com/github/PeterG2001/Projects-/blob/main/Assignment_1_4.ipynb\" target=\"_parent\"><img src=\"https://colab.research.google.com/assets/colab-badge.svg\" alt=\"Open In Colab\"/></a>"
      ]
    },
    {
      "cell_type": "markdown",
      "source": [
        "Assignment 1 \n"
      ],
      "metadata": {
        "id": "MzneVf4qoiTx"
      }
    },
    {
      "cell_type": "markdown",
      "source": [
        "**Question 2**"
      ],
      "metadata": {
        "id": "QtAvPx6Lp0wY"
      }
    },
    {
      "cell_type": "markdown",
      "source": [
        "Train Algorithm "
      ],
      "metadata": {
        "id": "zIlZmLEyizX6"
      }
    },
    {
      "cell_type": "code",
      "source": [
        "import numpy as np\n",
        "import pandas as pd \n",
        "import itertools "
      ],
      "metadata": {
        "id": "dDm8LOZKjMRw"
      },
      "execution_count": null,
      "outputs": []
    },
    {
      "cell_type": "code",
      "execution_count": null,
      "metadata": {
        "id": "Hd7etrEXiTaf"
      },
      "outputs": [],
      "source": [
        "def PerceptronTrain(train, maxIter):\n",
        "    # Initialize weight vector and bias term to zero\n",
        "    w = [0.0] * len(train[0][0])\n",
        "    b = 0.0\n",
        "\n",
        "    # Loop over the training set for a maximum number of iterations\n",
        "    for _ in range(maxIter):\n",
        "        # Keep track of whether any updates were made in this iteration\n",
        "        updated = False\n",
        "        # Loop over all training examples5\n",
        "        for X, y in train:\n",
        "            # Compute the activation for the current example\n",
        "            a = sum([w[i] * X[i] for i in range(len(X))]) + b\n",
        "            # Update the weights and bias if the prediction is incorrect\n",
        "            if y * a <= 0:\n",
        "                w = [w[i] + y * X[i] for i in range(len(X))]\n",
        "                b += y\n",
        "                updated = True\n",
        "        # If no updates were made in this iteration, break the loop early\n",
        "        if not updated:\n",
        "            break\n",
        "\n",
        "    # Return the learned bias and weight parameters\n",
        "    return b, w\n"
      ]
    },
    {
      "cell_type": "markdown",
      "source": [
        "Test Algorithm"
      ],
      "metadata": {
        "id": "44XhX_quifJg"
      }
    },
    {
      "cell_type": "code",
      "source": [
        "def PerceptronTest(b, w, X):\n",
        "    # Compute the activation for the input example\n",
        "    activation = b + sum([w[i] * X[i] for i in range(len(X))])\n",
        "    \n",
        "    # Return 1 if the activation is positive, otherwise -1\n",
        "    return 1 if activation > 0 else -1\n"
      ],
      "metadata": {
        "id": "3TW5QYBQif5e"
      },
      "execution_count": null,
      "outputs": []
    },
    {
      "cell_type": "code",
      "source": [
        "\n",
        "def readData(file_path):\n",
        "    # Load data from CSV file into a NumPy array\n",
        "    data = np.loadtxt(file_path, delimiter=\",\", usecols=(0,1,2,3,4), dtype=str)\n",
        "    \n",
        "    # Convert class labels to integers\n",
        "    labels = np.where(data[:, 4] == \"class-1\", 1, np.where(data[:, 4] == \"class-2\", 2, 3))\n",
        "    \n",
        "    # Convert input features and labels to tuples and store in a list\n",
        "    data = [(tuple(map(float, row[:4])), int(label)) for row, label in zip(data, labels)]\n",
        "    \n",
        "    return data\n"
      ],
      "metadata": {
        "id": "BnRQpUmEijC9"
      },
      "execution_count": null,
      "outputs": []
    },
    {
      "cell_type": "code",
      "source": [
        "train_data = readData(\"train.data\")\n",
        "test_data = readData(\"test.data\")"
      ],
      "metadata": {
        "id": "qCXqfZwujgNQ"
      },
      "execution_count": null,
      "outputs": []
    },
    {
      "cell_type": "code",
      "source": [
        "def dataPrep(data, class_lab, multiclass=False):\n",
        "    # If the classification is multiclass\n",
        "    if multiclass:\n",
        "        # Use a list comprehension to create a new list of tuples with binary label 1 for class_lab and -1 for other classes\n",
        "        new_data = [(X, 1) if y == class_lab else (X, -1) for X, y in data]\n",
        "    # If the classification is not multiclass\n",
        "    else:\n",
        "        # Use a list comprehension to create a new list of tuples with the same labels as the original data for non-class_lab points\n",
        "        new_data = [(X, y) for X, y in data if y != class_lab]\n",
        "    # Use a list comprehension to create a new list of tuples with binary label 1 for the smallest label and -1 for all other labels\n",
        "    new_tuples = [(X, 1 if y == min([x[1] for x in new_data]) else -1) for X, y in new_data]\n",
        "    # Return the new_tuples list\n",
        "    return new_tuples\n"
      ],
      "metadata": {
        "id": "dKmaJeKNimxU"
      },
      "execution_count": null,
      "outputs": []
    },
    {
      "cell_type": "code",
      "source": [
        "def accuracy(train, test, maxIter):\n",
        "    # Extract input features and labels from train and test sets\n",
        "    X_train, y_train = zip(*train)\n",
        "    X_test, y_test = zip(*test)\n",
        "    \n",
        "    # Train the perceptron model using the training set\n",
        "    b, w = PerceptronTrain(train, maxIter)\n",
        "    \n",
        "    # Generate predictions for the training and test sets\n",
        "    y_train_pred = [PerceptronTest(b, w, x) for x in X_train]\n",
        "    y_test_pred = [PerceptronTest(b, w, x) for x in X_test]\n",
        "    \n",
        "    # Calculate accuracy for the training and test sets\n",
        "    train_accuracy = sum([1 if y == y_pred else 0 for y, y_pred in zip(y_train, y_train_pred)]) / len(y_train) * 100\n",
        "    test_accuracy = sum([1 if y == y_pred else 0 for y, y_pred in zip(y_test, y_test_pred)]) / len(y_test) * 100\n",
        "    \n",
        "    return round(train_accuracy, 2), round(test_accuracy, 2)\n"
      ],
      "metadata": {
        "id": "WxdCC3EnisrM"
      },
      "execution_count": null,
      "outputs": []
    },
    {
      "cell_type": "markdown",
      "source": [
        "**Question 3**"
      ],
      "metadata": {
        "id": "Pb7IO_GeQpPQ"
      }
    },
    {
      "cell_type": "markdown",
      "source": [
        "Class 1 and class 2 Discrimination "
      ],
      "metadata": {
        "id": "_zouUbgyjzsm"
      }
    },
    {
      "cell_type": "code",
      "source": [
        "Binary_class1_2_train = dataPrep(train_data, 3, multiclass=False)\n",
        "Binary_class1_2_test = dataPrep(test_data, 3, multiclass=False)"
      ],
      "metadata": {
        "id": "Msk9e2kIj1Lt"
      },
      "execution_count": null,
      "outputs": []
    },
    {
      "cell_type": "code",
      "source": [
        "PerceptronTrain(Binary_class1_2_train, 20)"
      ],
      "metadata": {
        "colab": {
          "base_uri": "https://localhost:8080/"
        },
        "id": "yE6oe_iHj98W",
        "outputId": "e5892871-b313-465c-fef5-dd0fa269f3ad"
      },
      "execution_count": null,
      "outputs": [
        {
          "output_type": "execute_result",
          "data": {
            "text/plain": [
              "(0.0,\n",
              " [-28.400000000000027,\n",
              "  -33.19999999999999,\n",
              "  7.19999999999998,\n",
              "  57.00000000000005])"
            ]
          },
          "metadata": {},
          "execution_count": 120
        }
      ]
    },
    {
      "cell_type": "code",
      "source": [
        "Binary_class1_2_accuracy = accuracy(Binary_class1_2_train, Binary_class1_2_test, 20)\n",
        "Binary_class1_2_accuracy"
      ],
      "metadata": {
        "colab": {
          "base_uri": "https://localhost:8080/"
        },
        "id": "cNTUujH6kFt2",
        "outputId": "aa8403aa-0b29-4348-ea2e-177e795e2c63"
      },
      "execution_count": null,
      "outputs": [
        {
          "output_type": "execute_result",
          "data": {
            "text/plain": [
              "(99.38, 100.0)"
            ]
          },
          "metadata": {},
          "execution_count": 121
        }
      ]
    },
    {
      "cell_type": "markdown",
      "source": [
        "Class 2 and class 3 Discrimination "
      ],
      "metadata": {
        "id": "GKb1Jwp3kV8n"
      }
    },
    {
      "cell_type": "code",
      "source": [
        "Binary_class2_3_train = dataPrep(train_data, 1, multiclass=False)\n",
        "Binary_class2_3_test = dataPrep(test_data, 1, multiclass=False)"
      ],
      "metadata": {
        "id": "ktPrABWVkSEf"
      },
      "execution_count": null,
      "outputs": []
    },
    {
      "cell_type": "code",
      "source": [
        "PerceptronTrain(Binary_class2_3_train, 20)"
      ],
      "metadata": {
        "colab": {
          "base_uri": "https://localhost:8080/"
        },
        "id": "kz6A0qOokapt",
        "outputId": "d90fe6cc-569c-4b75-da64-427c8c246674"
      },
      "execution_count": null,
      "outputs": [
        {
          "output_type": "execute_result",
          "data": {
            "text/plain": [
              "(-5.0,\n",
              " [-7.8000000000000735,\n",
              "  43.19999999999991,\n",
              "  60.800000000000054,\n",
              "  -137.20000000000053])"
            ]
          },
          "metadata": {},
          "execution_count": 123
        }
      ]
    },
    {
      "cell_type": "code",
      "source": [
        "Binary_class2_3_accuracy = accuracy(Binary_class2_3_train, Binary_class2_3_test, 20)\n",
        "Binary_class2_3_accuracy"
      ],
      "metadata": {
        "colab": {
          "base_uri": "https://localhost:8080/"
        },
        "id": "JW5HuuE_kfa2",
        "outputId": "197fc783-04fe-46ba-b1a9-2d9196657717"
      },
      "execution_count": null,
      "outputs": [
        {
          "output_type": "execute_result",
          "data": {
            "text/plain": [
              "(90.68, 92.5)"
            ]
          },
          "metadata": {},
          "execution_count": 124
        }
      ]
    },
    {
      "cell_type": "markdown",
      "source": [
        "Class 1 and class 3, Discrimination  "
      ],
      "metadata": {
        "id": "MrXFxXfbk9hZ"
      }
    },
    {
      "cell_type": "code",
      "source": [
        "Binary_class1_3_train = dataPrep(train_data, 2, multiclass=False)\n",
        "Binary_class1_3_test = dataPrep(test_data, 2, multiclass=False)"
      ],
      "metadata": {
        "id": "uc9vGxuJk_OP"
      },
      "execution_count": null,
      "outputs": []
    },
    {
      "cell_type": "code",
      "source": [
        "PerceptronTrain(Binary_class1_3_train, 20)"
      ],
      "metadata": {
        "colab": {
          "base_uri": "https://localhost:8080/"
        },
        "id": "D5SNQcB2lILe",
        "outputId": "1caafc4c-c90e-45e0-93c4-59f3c01c1986"
      },
      "execution_count": null,
      "outputs": [
        {
          "output_type": "execute_result",
          "data": {
            "text/plain": [
              "(-3.0,\n",
              " [-89.00000000000026,\n",
              "  -131.50000000000045,\n",
              "  38.80000000000003,\n",
              "  138.79999999999987])"
            ]
          },
          "metadata": {},
          "execution_count": 126
        }
      ]
    },
    {
      "cell_type": "code",
      "source": [
        "Binary_class1_3_accuracy = accuracy(Binary_class1_3_train, Binary_class1_3_test, 20)\n",
        "Binary_class2_3_accuracy"
      ],
      "metadata": {
        "colab": {
          "base_uri": "https://localhost:8080/"
        },
        "id": "bkFS2sBpBZFm",
        "outputId": "2ade3f2f-ad1f-41e4-9269-9bbfc7c718b1"
      },
      "execution_count": null,
      "outputs": [
        {
          "output_type": "execute_result",
          "data": {
            "text/plain": [
              "(90.68, 92.5)"
            ]
          },
          "metadata": {},
          "execution_count": 127
        }
      ]
    },
    {
      "cell_type": "markdown",
      "source": [
        "------------------------------------------------------------------------------------------------------------------------------------------------------------------------------"
      ],
      "metadata": {
        "id": "B8E8GDdCv86d"
      }
    },
    {
      "cell_type": "markdown",
      "source": [
        "1 vs rest Multiclass"
      ],
      "metadata": {
        "id": "ptYrxKsRlPIf"
      }
    },
    {
      "cell_type": "code",
      "source": [
        "Multi_class1vsrest_train = dataPrep(train_data, 1, multiclass=True)\n",
        "Multi_class1vsrest_test = dataPrep(test_data, 1, multiclass=True)"
      ],
      "metadata": {
        "id": "hopFPf-TlQF_"
      },
      "execution_count": null,
      "outputs": []
    },
    {
      "cell_type": "code",
      "source": [
        "print(\"Multi-class for 1 vs rest bias and weight vector\", PerceptronTrain(Multi_class1vsrest_train, 20))"
      ],
      "metadata": {
        "colab": {
          "base_uri": "https://localhost:8080/"
        },
        "id": "2Xc11VcHlV99",
        "outputId": "0272daab-3325-4aa4-d399-fad108c8485a"
      },
      "execution_count": null,
      "outputs": [
        {
          "output_type": "stream",
          "name": "stdout",
          "text": [
            "Multi-class for 1 vs rest bias and weight vector (4.0, [95.70000000000024, 137.7000000000004, -33.20000000000001, -122.19999999999992])\n"
          ]
        }
      ]
    },
    {
      "cell_type": "code",
      "source": [
        "Multi_class1vsrest_accuracy = accuracy(Multi_class1vsrest_train, Multi_class1vsrest_test, 20)"
      ],
      "metadata": {
        "id": "1jDsXIi4Ncb5"
      },
      "execution_count": null,
      "outputs": []
    },
    {
      "cell_type": "code",
      "source": [
        "print(\"Multi-class for 1 vs rest accuracy\", Multi_class1vsrest_accuracy)"
      ],
      "metadata": {
        "colab": {
          "base_uri": "https://localhost:8080/"
        },
        "id": "N5VQcbSGMckG",
        "outputId": "a73865cd-8e52-4289-8588-128b873a5979"
      },
      "execution_count": null,
      "outputs": [
        {
          "output_type": "stream",
          "name": "stdout",
          "text": [
            "Multi-class for 1 vs rest accuracy (90.04, 93.22)\n"
          ]
        }
      ]
    },
    {
      "cell_type": "markdown",
      "source": [
        "2 vs rest Multiclass "
      ],
      "metadata": {
        "id": "0ZvN4JqZleMV"
      }
    },
    {
      "cell_type": "code",
      "source": [
        "Multi_class2vsrest_train = dataPrep(train_data, 2, multiclass=True)\n",
        "Multi_class2vsrest_test = dataPrep(test_data, 2, multiclass=True)"
      ],
      "metadata": {
        "id": "qGfiLe4flrEE"
      },
      "execution_count": null,
      "outputs": []
    },
    {
      "cell_type": "code",
      "source": [
        "print(\"Multi-class for 2 vs rest bias and weight vector\", PerceptronTrain(Multi_class2vsrest_train, 20))"
      ],
      "metadata": {
        "colab": {
          "base_uri": "https://localhost:8080/"
        },
        "id": "dFCTHnNOlrKl",
        "outputId": "ac5c8b75-2151-48e7-9ba5-6f3afa098af3"
      },
      "execution_count": null,
      "outputs": [
        {
          "output_type": "stream",
          "name": "stdout",
          "text": [
            "Multi-class for 2 vs rest bias and weight vector (4.0, [1.8000000000000451, -49.89999999999985, -47.40000000000006, 128.60000000000062])\n"
          ]
        }
      ]
    },
    {
      "cell_type": "code",
      "source": [
        "Multi_class2vsrest_accuracy = accuracy(Multi_class2vsrest_train, Multi_class2vsrest_test, 20)"
      ],
      "metadata": {
        "id": "fOqLKVioOs26"
      },
      "execution_count": null,
      "outputs": []
    },
    {
      "cell_type": "code",
      "source": [
        "print(\"Multi-class for 2 vs rest accuracy\", Multi_class2vsrest_accuracy)"
      ],
      "metadata": {
        "colab": {
          "base_uri": "https://localhost:8080/"
        },
        "id": "ZT3SWE39OzHo",
        "outputId": "a9331e96-b0ed-44db-ad98-4ef47350a005"
      },
      "execution_count": null,
      "outputs": [
        {
          "output_type": "stream",
          "name": "stdout",
          "text": [
            "Multi-class for 2 vs rest accuracy (91.7, 93.22)\n"
          ]
        }
      ]
    },
    {
      "cell_type": "markdown",
      "source": [
        "3 vs rest Multiclass "
      ],
      "metadata": {
        "id": "k9xg3h96mSUn"
      }
    },
    {
      "cell_type": "code",
      "source": [
        "Multi_class3vsrest_train = dataPrep(train_data, 3, multiclass=True)\n",
        "Multi_class3vsrest_test = dataPrep(test_data, 3, multiclass=True)"
      ],
      "metadata": {
        "id": "FrSIwoOPmPJf"
      },
      "execution_count": null,
      "outputs": []
    },
    {
      "cell_type": "code",
      "source": [
        "print(\"Multi-class for 3 vs rest bias and weight vector\", PerceptronTrain(Multi_class3vsrest_train, 20))"
      ],
      "metadata": {
        "colab": {
          "base_uri": "https://localhost:8080/"
        },
        "id": "VMBuA_LWma9P",
        "outputId": "4b5f18fc-bb5c-46e9-99dd-cf238bcab493"
      },
      "execution_count": null,
      "outputs": [
        {
          "output_type": "stream",
          "name": "stdout",
          "text": [
            "Multi-class for 3 vs rest bias and weight vector (1.0, [13.80000000000001, 1.2000000000001023, 1.1999999999999922, 6.399999999999925])\n"
          ]
        }
      ]
    },
    {
      "cell_type": "code",
      "source": [
        "Multi_class3vsrest_accuracy = accuracy(Multi_class3vsrest_train, Multi_class3vsrest_test, 20)"
      ],
      "metadata": {
        "id": "WgfmnNadMskc"
      },
      "execution_count": null,
      "outputs": []
    },
    {
      "cell_type": "code",
      "source": [
        "print(\"Multi-class for 3 vs rest accuracy\", Multi_class3vsrest_accuracy)"
      ],
      "metadata": {
        "colab": {
          "base_uri": "https://localhost:8080/"
        },
        "id": "uVvjuZM-Pwwn",
        "outputId": "5bd660d0-e6ad-42af-9a1f-141ede6a8530"
      },
      "execution_count": null,
      "outputs": [
        {
          "output_type": "stream",
          "name": "stdout",
          "text": [
            "Multi-class for 3 vs rest accuracy (66.8, 66.1)\n"
          ]
        }
      ]
    },
    {
      "cell_type": "markdown",
      "source": [
        "**Question 5**"
      ],
      "metadata": {
        "id": "EgkO9Luyp8o8"
      }
    },
    {
      "cell_type": "code",
      "source": [
        "\n",
        "RC =[0.01, 0.1, 1.0, 10.0, 100.0]\n",
        "def PerceptronTrainL2(train, maxIter, RC):\n",
        "    # Initialize weight vector and bias term to zero\n",
        "    w = [0.0] * len(train[0][0])\n",
        "    b = 0.0     \n",
        "\n",
        "    for _ in range(maxIter):\n",
        "        # Keep track of whether any updates were made in this iteration\n",
        "        updated = False\n",
        "        \n",
        "        # Loop over all training examples\n",
        "        for X, y in train:\n",
        "            # Compute the activation for the current example\n",
        "            a = sum([w[i] * X[i] for i in range(len(X))]) + b\n",
        "            \n",
        "            # Update the weights and bias if the prediction is incorrect\n",
        "            if y * a <= 0:\n",
        "                w = [(1 - RC) * w[i] + y * X[i] for i in range(len(X))]\n",
        "                b += y\n",
        "                updated = True\n",
        "        \n",
        "        # Add L2 regularization to the weight update rule\n",
        "        w = [(1 - RC) * w[i] for i in range(len(w))]\n",
        "        \n",
        "        # If no updates were made in this iteration, break the loop early\n",
        "        if not updated:\n",
        "            break\n",
        "\n",
        "    # Return the learned bias and weight parameters\n",
        "    return b, w\n"
      ],
      "metadata": {
        "id": "uMjwGFpZZUzf"
      },
      "execution_count": null,
      "outputs": []
    },
    {
      "cell_type": "code",
      "source": [
        "def regPerceptronTest(b, w, X):\n",
        "    # Compute the activation for the input example\n",
        "    activation = b + sum([w[i] * X[i] for i in range(len(X))])\n",
        "    \n",
        "    # Return 1 if the activation is positive, otherwise -1\n",
        "    return 1 if activation > 0 else -1"
      ],
      "metadata": {
        "id": "pF614bFE6oL1"
      },
      "execution_count": null,
      "outputs": []
    },
    {
      "cell_type": "code",
      "source": [
        "\n",
        "def regaccuracy(train, test, maxIter, coefficients):\n",
        "    # Extract input features and labels from train and test sets\n",
        "    X_train, y_train = zip(*train)\n",
        "    X_test, y_test = zip(*test)\n",
        "    \n",
        "    accuracy = [] # Initialize empty list to store accuracy values\n",
        "    \n",
        "    for coeff in coefficients:\n",
        "        # Train the perceptron model using the training set with regularization\n",
        "        b, w = PerceptronTrainL2(train, maxIter, coeff)\n",
        "        \n",
        "        # Generate predictions for the training and test sets\n",
        "        y_train_pred = [PerceptronTest(b, w, x) for x in X_train]\n",
        "        y_test_pred = [PerceptronTest(b, w, x) for x in X_test]\n",
        "        \n",
        "        # Calculate accuracy for the training and test sets\n",
        "        train_accuracy = sum([1 if y == y_pred else 0 for y, y_pred in zip(y_train, y_train_pred)]) / len(y_train) * 100\n",
        "        test_accuracy = sum([1 if y == y_pred else 0 for y, y_pred in zip(y_test, y_test_pred)]) / len(y_test) * 100\n",
        "        \n",
        "        # Store the regularization coefficient and corresponding accuracies in the accuracy list\n",
        "        accuracy.append([coeff, train_accuracy, test_accuracy])\n",
        "    \n",
        "    # Convert the accuracy list to a pandas DataFrame and return it\n",
        "    accuracy = pd.DataFrame(accuracy, columns=[\"RC\",'train accuracy', 'test accuracy']).set_index('RC')\n",
        "    return accuracy\n"
      ],
      "metadata": {
        "id": "VkS-ex5j2mH9"
      },
      "execution_count": null,
      "outputs": []
    },
    {
      "cell_type": "markdown",
      "source": [
        "1 vs rest Regularised Multiclass "
      ],
      "metadata": {
        "id": "HUnImajdsLcF"
      }
    },
    {
      "cell_type": "code",
      "source": [
        "Reg_Multi_class1vsrest_train = dataPrep(train_data, 1, multiclass=True)\n",
        "Reg_Multi_class1vsrest_test = dataPrep(test_data, 1, multiclass=True)"
      ],
      "metadata": {
        "id": "7Svo1XCR7F87"
      },
      "execution_count": null,
      "outputs": []
    },
    {
      "cell_type": "code",
      "source": [
        "PerceptronTrainL2(Reg_Multi_class1vsrest_train, 20, 1.0)"
      ],
      "metadata": {
        "colab": {
          "base_uri": "https://localhost:8080/"
        },
        "id": "UR7sLVgI7H5T",
        "outputId": "ab96b596-0c8f-4733-c3cb-0f33c06ca4f2"
      },
      "execution_count": null,
      "outputs": [
        {
          "output_type": "execute_result",
          "data": {
            "text/plain": [
              "(1.0, [0.0, 0.0, 0.0, 0.0])"
            ]
          },
          "metadata": {},
          "execution_count": 144
        }
      ]
    },
    {
      "cell_type": "code",
      "source": [
        "Reg_Multi_class1vsrest_accuracy = regaccuracy(Reg_Multi_class1vsrest_train, Reg_Multi_class1vsrest_test, 20, RC)\n",
        "print(Reg_Multi_class1vsrest_accuracy)"
      ],
      "metadata": {
        "colab": {
          "base_uri": "https://localhost:8080/"
        },
        "id": "p2IMbPYT7bSb",
        "outputId": "7b0719b3-02d2-4566-fe84-d283b4cc213b"
      },
      "execution_count": null,
      "outputs": [
        {
          "output_type": "stream",
          "name": "stdout",
          "text": [
            "        train accuracy  test accuracy\n",
            "RC                                   \n",
            "0.01         85.892116      84.745763\n",
            "0.10         66.804979      67.796610\n",
            "1.00         66.804979      67.796610\n",
            "10.00        33.195021      32.203390\n",
            "100.00       33.195021      32.203390\n"
          ]
        }
      ]
    },
    {
      "cell_type": "markdown",
      "source": [
        "2 vs rest Regularised Multiclass "
      ],
      "metadata": {
        "id": "5lZjmRuksOcF"
      }
    },
    {
      "cell_type": "code",
      "source": [
        "Reg_Multi_class2vsrest_train = dataPrep(train_data, 2, multiclass=True)\n",
        "Reg_Multi_class2vsrest_test = dataPrep(test_data, 2, multiclass=True)"
      ],
      "metadata": {
        "id": "CtF1SXE99K35"
      },
      "execution_count": null,
      "outputs": []
    },
    {
      "cell_type": "code",
      "source": [
        "PerceptronTrainL2(Reg_Multi_class2vsrest_train, 20, 1.0)"
      ],
      "metadata": {
        "colab": {
          "base_uri": "https://localhost:8080/"
        },
        "id": "Cwd2y9oP9eGh",
        "outputId": "862d5d12-688b-462e-b76d-793609b50fbc"
      },
      "execution_count": null,
      "outputs": [
        {
          "output_type": "execute_result",
          "data": {
            "text/plain": [
              "(-1.0, [-0.0, -0.0, -0.0, -0.0])"
            ]
          },
          "metadata": {},
          "execution_count": 147
        }
      ]
    },
    {
      "cell_type": "code",
      "source": [
        "Reg_Multi_class2vsrest_accuracy = regaccuracy(Reg_Multi_class2vsrest_train, Reg_Multi_class2vsrest_test, 20, RC)\n",
        "Reg_Multi_class2vsrest_accuracy"
      ],
      "metadata": {
        "colab": {
          "base_uri": "https://localhost:8080/",
          "height": 237
        },
        "id": "3DOKyz109sTy",
        "outputId": "ed3d99b8-b675-4261-fc76-4dae8b5526fd"
      },
      "execution_count": null,
      "outputs": [
        {
          "output_type": "execute_result",
          "data": {
            "text/plain": [
              "        train accuracy  test accuracy\n",
              "RC                                   \n",
              "0.01         76.763485      79.661017\n",
              "0.10         33.609959      33.898305\n",
              "1.00         33.609959      33.898305\n",
              "10.00        66.390041      66.101695\n",
              "100.00       66.390041      66.101695"
            ],
            "text/html": [
              "\n",
              "  <div id=\"df-4b3db42f-bc26-4a1a-91ba-3b0117999397\">\n",
              "    <div class=\"colab-df-container\">\n",
              "      <div>\n",
              "<style scoped>\n",
              "    .dataframe tbody tr th:only-of-type {\n",
              "        vertical-align: middle;\n",
              "    }\n",
              "\n",
              "    .dataframe tbody tr th {\n",
              "        vertical-align: top;\n",
              "    }\n",
              "\n",
              "    .dataframe thead th {\n",
              "        text-align: right;\n",
              "    }\n",
              "</style>\n",
              "<table border=\"1\" class=\"dataframe\">\n",
              "  <thead>\n",
              "    <tr style=\"text-align: right;\">\n",
              "      <th></th>\n",
              "      <th>train accuracy</th>\n",
              "      <th>test accuracy</th>\n",
              "    </tr>\n",
              "    <tr>\n",
              "      <th>RC</th>\n",
              "      <th></th>\n",
              "      <th></th>\n",
              "    </tr>\n",
              "  </thead>\n",
              "  <tbody>\n",
              "    <tr>\n",
              "      <th>0.01</th>\n",
              "      <td>76.763485</td>\n",
              "      <td>79.661017</td>\n",
              "    </tr>\n",
              "    <tr>\n",
              "      <th>0.10</th>\n",
              "      <td>33.609959</td>\n",
              "      <td>33.898305</td>\n",
              "    </tr>\n",
              "    <tr>\n",
              "      <th>1.00</th>\n",
              "      <td>33.609959</td>\n",
              "      <td>33.898305</td>\n",
              "    </tr>\n",
              "    <tr>\n",
              "      <th>10.00</th>\n",
              "      <td>66.390041</td>\n",
              "      <td>66.101695</td>\n",
              "    </tr>\n",
              "    <tr>\n",
              "      <th>100.00</th>\n",
              "      <td>66.390041</td>\n",
              "      <td>66.101695</td>\n",
              "    </tr>\n",
              "  </tbody>\n",
              "</table>\n",
              "</div>\n",
              "      <button class=\"colab-df-convert\" onclick=\"convertToInteractive('df-4b3db42f-bc26-4a1a-91ba-3b0117999397')\"\n",
              "              title=\"Convert this dataframe to an interactive table.\"\n",
              "              style=\"display:none;\">\n",
              "        \n",
              "  <svg xmlns=\"http://www.w3.org/2000/svg\" height=\"24px\"viewBox=\"0 0 24 24\"\n",
              "       width=\"24px\">\n",
              "    <path d=\"M0 0h24v24H0V0z\" fill=\"none\"/>\n",
              "    <path d=\"M18.56 5.44l.94 2.06.94-2.06 2.06-.94-2.06-.94-.94-2.06-.94 2.06-2.06.94zm-11 1L8.5 8.5l.94-2.06 2.06-.94-2.06-.94L8.5 2.5l-.94 2.06-2.06.94zm10 10l.94 2.06.94-2.06 2.06-.94-2.06-.94-.94-2.06-.94 2.06-2.06.94z\"/><path d=\"M17.41 7.96l-1.37-1.37c-.4-.4-.92-.59-1.43-.59-.52 0-1.04.2-1.43.59L10.3 9.45l-7.72 7.72c-.78.78-.78 2.05 0 2.83L4 21.41c.39.39.9.59 1.41.59.51 0 1.02-.2 1.41-.59l7.78-7.78 2.81-2.81c.8-.78.8-2.07 0-2.86zM5.41 20L4 18.59l7.72-7.72 1.47 1.35L5.41 20z\"/>\n",
              "  </svg>\n",
              "      </button>\n",
              "      \n",
              "  <style>\n",
              "    .colab-df-container {\n",
              "      display:flex;\n",
              "      flex-wrap:wrap;\n",
              "      gap: 12px;\n",
              "    }\n",
              "\n",
              "    .colab-df-convert {\n",
              "      background-color: #E8F0FE;\n",
              "      border: none;\n",
              "      border-radius: 50%;\n",
              "      cursor: pointer;\n",
              "      display: none;\n",
              "      fill: #1967D2;\n",
              "      height: 32px;\n",
              "      padding: 0 0 0 0;\n",
              "      width: 32px;\n",
              "    }\n",
              "\n",
              "    .colab-df-convert:hover {\n",
              "      background-color: #E2EBFA;\n",
              "      box-shadow: 0px 1px 2px rgba(60, 64, 67, 0.3), 0px 1px 3px 1px rgba(60, 64, 67, 0.15);\n",
              "      fill: #174EA6;\n",
              "    }\n",
              "\n",
              "    [theme=dark] .colab-df-convert {\n",
              "      background-color: #3B4455;\n",
              "      fill: #D2E3FC;\n",
              "    }\n",
              "\n",
              "    [theme=dark] .colab-df-convert:hover {\n",
              "      background-color: #434B5C;\n",
              "      box-shadow: 0px 1px 3px 1px rgba(0, 0, 0, 0.15);\n",
              "      filter: drop-shadow(0px 1px 2px rgba(0, 0, 0, 0.3));\n",
              "      fill: #FFFFFF;\n",
              "    }\n",
              "  </style>\n",
              "\n",
              "      <script>\n",
              "        const buttonEl =\n",
              "          document.querySelector('#df-4b3db42f-bc26-4a1a-91ba-3b0117999397 button.colab-df-convert');\n",
              "        buttonEl.style.display =\n",
              "          google.colab.kernel.accessAllowed ? 'block' : 'none';\n",
              "\n",
              "        async function convertToInteractive(key) {\n",
              "          const element = document.querySelector('#df-4b3db42f-bc26-4a1a-91ba-3b0117999397');\n",
              "          const dataTable =\n",
              "            await google.colab.kernel.invokeFunction('convertToInteractive',\n",
              "                                                     [key], {});\n",
              "          if (!dataTable) return;\n",
              "\n",
              "          const docLinkHtml = 'Like what you see? Visit the ' +\n",
              "            '<a target=\"_blank\" href=https://colab.research.google.com/notebooks/data_table.ipynb>data table notebook</a>'\n",
              "            + ' to learn more about interactive tables.';\n",
              "          element.innerHTML = '';\n",
              "          dataTable['output_type'] = 'display_data';\n",
              "          await google.colab.output.renderOutput(dataTable, element);\n",
              "          const docLink = document.createElement('div');\n",
              "          docLink.innerHTML = docLinkHtml;\n",
              "          element.appendChild(docLink);\n",
              "        }\n",
              "      </script>\n",
              "    </div>\n",
              "  </div>\n",
              "  "
            ]
          },
          "metadata": {},
          "execution_count": 152
        }
      ]
    },
    {
      "cell_type": "markdown",
      "source": [
        "3 vs rest Regularised Multiclass "
      ],
      "metadata": {
        "id": "-y9ILVy5sY4N"
      }
    },
    {
      "cell_type": "code",
      "source": [
        "Reg_Multi_class3vsrest_train = dataPrep(train_data, 3, multiclass=True)\n",
        "Reg_Multi_class3vsrest_test = dataPrep(test_data, 3, multiclass=True)"
      ],
      "metadata": {
        "id": "i4_tBMvL8axY"
      },
      "execution_count": null,
      "outputs": []
    },
    {
      "cell_type": "code",
      "source": [
        "PerceptronTrainL2(Reg_Multi_class3vsrest_train, 20, 1.0)"
      ],
      "metadata": {
        "colab": {
          "base_uri": "https://localhost:8080/"
        },
        "id": "65ozDkzi93Cg",
        "outputId": "d9932b92-8bc6-458e-b671-f60e357ea582"
      },
      "execution_count": null,
      "outputs": [
        {
          "output_type": "execute_result",
          "data": {
            "text/plain": [
              "(1.0, [0.0, 0.0, 0.0, 0.0])"
            ]
          },
          "metadata": {},
          "execution_count": 150
        }
      ]
    },
    {
      "cell_type": "code",
      "source": [
        "Reg_Multi_class3vsrest_accuracy = regaccuracy(Reg_Multi_class3vsrest_train, Reg_Multi_class3vsrest_test, 20, RC)\n",
        "Reg_Multi_class3vsrest_accuracy"
      ],
      "metadata": {
        "colab": {
          "base_uri": "https://localhost:8080/",
          "height": 237
        },
        "id": "MFdcVPOX-B23",
        "outputId": "d34941e9-5b01-473f-871e-483748c23808"
      },
      "execution_count": null,
      "outputs": [
        {
          "output_type": "execute_result",
          "data": {
            "text/plain": [
              "        train accuracy  test accuracy\n",
              "RC                                   \n",
              "0.01         66.804979      66.101695\n",
              "0.10         66.804979      66.101695\n",
              "1.00         66.804979      66.101695\n",
              "10.00        33.195021      33.898305\n",
              "100.00       33.195021      33.898305"
            ],
            "text/html": [
              "\n",
              "  <div id=\"df-3696d183-3477-4ee0-b2a0-bce030b12a6a\">\n",
              "    <div class=\"colab-df-container\">\n",
              "      <div>\n",
              "<style scoped>\n",
              "    .dataframe tbody tr th:only-of-type {\n",
              "        vertical-align: middle;\n",
              "    }\n",
              "\n",
              "    .dataframe tbody tr th {\n",
              "        vertical-align: top;\n",
              "    }\n",
              "\n",
              "    .dataframe thead th {\n",
              "        text-align: right;\n",
              "    }\n",
              "</style>\n",
              "<table border=\"1\" class=\"dataframe\">\n",
              "  <thead>\n",
              "    <tr style=\"text-align: right;\">\n",
              "      <th></th>\n",
              "      <th>train accuracy</th>\n",
              "      <th>test accuracy</th>\n",
              "    </tr>\n",
              "    <tr>\n",
              "      <th>RC</th>\n",
              "      <th></th>\n",
              "      <th></th>\n",
              "    </tr>\n",
              "  </thead>\n",
              "  <tbody>\n",
              "    <tr>\n",
              "      <th>0.01</th>\n",
              "      <td>66.804979</td>\n",
              "      <td>66.101695</td>\n",
              "    </tr>\n",
              "    <tr>\n",
              "      <th>0.10</th>\n",
              "      <td>66.804979</td>\n",
              "      <td>66.101695</td>\n",
              "    </tr>\n",
              "    <tr>\n",
              "      <th>1.00</th>\n",
              "      <td>66.804979</td>\n",
              "      <td>66.101695</td>\n",
              "    </tr>\n",
              "    <tr>\n",
              "      <th>10.00</th>\n",
              "      <td>33.195021</td>\n",
              "      <td>33.898305</td>\n",
              "    </tr>\n",
              "    <tr>\n",
              "      <th>100.00</th>\n",
              "      <td>33.195021</td>\n",
              "      <td>33.898305</td>\n",
              "    </tr>\n",
              "  </tbody>\n",
              "</table>\n",
              "</div>\n",
              "      <button class=\"colab-df-convert\" onclick=\"convertToInteractive('df-3696d183-3477-4ee0-b2a0-bce030b12a6a')\"\n",
              "              title=\"Convert this dataframe to an interactive table.\"\n",
              "              style=\"display:none;\">\n",
              "        \n",
              "  <svg xmlns=\"http://www.w3.org/2000/svg\" height=\"24px\"viewBox=\"0 0 24 24\"\n",
              "       width=\"24px\">\n",
              "    <path d=\"M0 0h24v24H0V0z\" fill=\"none\"/>\n",
              "    <path d=\"M18.56 5.44l.94 2.06.94-2.06 2.06-.94-2.06-.94-.94-2.06-.94 2.06-2.06.94zm-11 1L8.5 8.5l.94-2.06 2.06-.94-2.06-.94L8.5 2.5l-.94 2.06-2.06.94zm10 10l.94 2.06.94-2.06 2.06-.94-2.06-.94-.94-2.06-.94 2.06-2.06.94z\"/><path d=\"M17.41 7.96l-1.37-1.37c-.4-.4-.92-.59-1.43-.59-.52 0-1.04.2-1.43.59L10.3 9.45l-7.72 7.72c-.78.78-.78 2.05 0 2.83L4 21.41c.39.39.9.59 1.41.59.51 0 1.02-.2 1.41-.59l7.78-7.78 2.81-2.81c.8-.78.8-2.07 0-2.86zM5.41 20L4 18.59l7.72-7.72 1.47 1.35L5.41 20z\"/>\n",
              "  </svg>\n",
              "      </button>\n",
              "      \n",
              "  <style>\n",
              "    .colab-df-container {\n",
              "      display:flex;\n",
              "      flex-wrap:wrap;\n",
              "      gap: 12px;\n",
              "    }\n",
              "\n",
              "    .colab-df-convert {\n",
              "      background-color: #E8F0FE;\n",
              "      border: none;\n",
              "      border-radius: 50%;\n",
              "      cursor: pointer;\n",
              "      display: none;\n",
              "      fill: #1967D2;\n",
              "      height: 32px;\n",
              "      padding: 0 0 0 0;\n",
              "      width: 32px;\n",
              "    }\n",
              "\n",
              "    .colab-df-convert:hover {\n",
              "      background-color: #E2EBFA;\n",
              "      box-shadow: 0px 1px 2px rgba(60, 64, 67, 0.3), 0px 1px 3px 1px rgba(60, 64, 67, 0.15);\n",
              "      fill: #174EA6;\n",
              "    }\n",
              "\n",
              "    [theme=dark] .colab-df-convert {\n",
              "      background-color: #3B4455;\n",
              "      fill: #D2E3FC;\n",
              "    }\n",
              "\n",
              "    [theme=dark] .colab-df-convert:hover {\n",
              "      background-color: #434B5C;\n",
              "      box-shadow: 0px 1px 3px 1px rgba(0, 0, 0, 0.15);\n",
              "      filter: drop-shadow(0px 1px 2px rgba(0, 0, 0, 0.3));\n",
              "      fill: #FFFFFF;\n",
              "    }\n",
              "  </style>\n",
              "\n",
              "      <script>\n",
              "        const buttonEl =\n",
              "          document.querySelector('#df-3696d183-3477-4ee0-b2a0-bce030b12a6a button.colab-df-convert');\n",
              "        buttonEl.style.display =\n",
              "          google.colab.kernel.accessAllowed ? 'block' : 'none';\n",
              "\n",
              "        async function convertToInteractive(key) {\n",
              "          const element = document.querySelector('#df-3696d183-3477-4ee0-b2a0-bce030b12a6a');\n",
              "          const dataTable =\n",
              "            await google.colab.kernel.invokeFunction('convertToInteractive',\n",
              "                                                     [key], {});\n",
              "          if (!dataTable) return;\n",
              "\n",
              "          const docLinkHtml = 'Like what you see? Visit the ' +\n",
              "            '<a target=\"_blank\" href=https://colab.research.google.com/notebooks/data_table.ipynb>data table notebook</a>'\n",
              "            + ' to learn more about interactive tables.';\n",
              "          element.innerHTML = '';\n",
              "          dataTable['output_type'] = 'display_data';\n",
              "          await google.colab.output.renderOutput(dataTable, element);\n",
              "          const docLink = document.createElement('div');\n",
              "          docLink.innerHTML = docLinkHtml;\n",
              "          element.appendChild(docLink);\n",
              "        }\n",
              "      </script>\n",
              "    </div>\n",
              "  </div>\n",
              "  "
            ]
          },
          "metadata": {},
          "execution_count": 151
        }
      ]
    }
  ]
}